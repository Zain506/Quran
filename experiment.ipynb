{
 "cells": [
  {
   "cell_type": "markdown",
   "metadata": {},
   "source": [
    "# Quran: Load Quran text (Arabic and English) into a file via public APIs"
   ]
  },
  {
   "cell_type": "code",
   "execution_count": 27,
   "metadata": {},
   "outputs": [],
   "source": [
    "import requests\n",
    "import pandas as pd\n",
    "\n",
    "def getSurah(x: int) -> dict:\n",
    "    \"\"\"Get Surah Arabic and English as dictionary\"\"\"\n",
    "    df = []\n",
    "    url = f\"http://api.alquran.cloud/v1/surah/{x}\"\n",
    "    response = requests.get(url)\n",
    "    translation = requests.get(url + \"/en.asad\")\n",
    "    response.raise_for_status()\n",
    "    translation.raise_for_status()\n",
    "    ordered = response.json()\n",
    "    trans = translation.json()\n",
    "    data = ordered[\"data\"][\"ayahs\"]\n",
    "    tran = trans[\"data\"][\"ayahs\"]\n",
    "    if len(data) != len(tran):\n",
    "        print(\"Error!\")\n",
    "    else:\n",
    "        n = len(data)\n",
    "        for i in range(n):\n",
    "            df.append({\n",
    "                \"Arabic\": (data[i][\"text\"]),\n",
    "                \"English\": tran[i][\"text\"]\n",
    "            })\n",
    "    return df\n",
    "def surahToDB(df: dict):\n",
    "    db = pd.DataFrame(df)\n",
    "    return db\n",
    "def saveSurah(x: int):\n",
    "    \"\"\"Save Surah to local file as dataframe\"\"\"\n",
    "    df = getSurah(x)\n",
    "    pass"
   ]
  },
  {
   "cell_type": "code",
   "execution_count": 26,
   "metadata": {},
   "outputs": [],
   "source": [
    "from PIL import Image, ImageDraw, ImageFont\n",
    "import textwrap\n",
    "import arabic_reshaper\n",
    "from bidi.algorithm import get_display\n",
    "\n",
    "def create_text_image(df, arabic_column, english_column, image_path='output_image.png'):\n",
    "    # Load a font\n",
    "    try:\n",
    "        font = ImageFont.truetype(\"arial.ttf\", 20)\n",
    "    except IOError:\n",
    "        font = ImageFont.load_default()\n",
    "\n",
    "    # Define text wrapping parameters\n",
    "    wrapper = textwrap.TextWrapper(width=35, expand_tabs=False, replace_whitespace=False)\n",
    "\n",
    "    # Calculate total height required for all text\n",
    "    total_height = 0\n",
    "    for index, row in df.iterrows():\n",
    "        arabic_lines = wrapper.wrap(text=row[arabic_column])\n",
    "        english_lines = wrapper.wrap(text=row[english_column])\n",
    "        total_height += (len(arabic_lines) + len(english_lines)) * 25 + 10  # Line height + spacing\n",
    "\n",
    "    # Set image dimensions\n",
    "    img_width = 800\n",
    "    img_height = total_height + 50  # Additional padding\n",
    "    img = Image.new('RGB', (img_width, img_height), color='white')\n",
    "    draw = ImageDraw.Draw(img)\n",
    "\n",
    "    # Starting position for text\n",
    "    y_position = 10\n",
    "\n",
    "    for index, row in df.iterrows():\n",
    "        # Wrap Arabic and English texts\n",
    "        arabic_lines = wrapper.wrap(text=row[arabic_column])\n",
    "        english_lines = wrapper.wrap(text=row[english_column])\n",
    "\n",
    "        # Reshape and reorder Arabic text\n",
    "        reshaped_arabic = arabic_reshaper.reshape(row[arabic_column])\n",
    "        bidi_arabic = get_display(reshaped_arabic)\n",
    "\n",
    "        # Now wrap the processed Arabic text instead of the original\n",
    "        arabic_lines = wrapper.wrap(text=bidi_arabic)\n",
    "        english_lines = wrapper.wrap(text=row[english_column])\n",
    "        \n",
    "        # Draw Arabic text\n",
    "        for line in arabic_lines:\n",
    "            draw.text((10, y_position), line, font=font, fill='black')\n",
    "            y_position += 25\n",
    "\n",
    "        # Draw English text\n",
    "        for line in english_lines:\n",
    "            draw.text((img_width // 2, y_position), line, font=font, fill='black')\n",
    "            y_position += 25\n",
    "\n",
    "        # Add spacing between rows\n",
    "        y_position += 10\n",
    "\n",
    "    # Save the image\n",
    "    img.save(image_path)\n",
    "    img.show()"
   ]
  },
  {
   "cell_type": "code",
   "execution_count": 28,
   "metadata": {},
   "outputs": [
    {
     "name": "stdout",
     "output_type": "stream",
     "text": [
      "[{'Arabic': 'بِسۡمِ ٱللَّهِ ٱلرَّحۡمَـٰنِ ٱلرَّحِیمِ\\n', 'English': 'In the name of God, The Most Gracious, The Dispenser of Grace:'}, {'Arabic': 'ٱلۡحَمۡدُ لِلَّهِ رَبِّ ٱلۡعَـٰلَمِینَ\\n', 'English': 'All praise is due to God alone, the Sustainer of all the worlds,'}, {'Arabic': 'ٱلرَّحۡمَـٰنِ ٱلرَّحِیمِ\\n', 'English': 'The Most Gracious, the Dispenser of Grace,'}, {'Arabic': 'مَـٰلِكِ یَوۡمِ ٱلدِّینِ\\n', 'English': 'Lord of the Day of Judgment!'}, {'Arabic': 'إِیَّاكَ نَعۡبُدُ وَإِیَّاكَ نَسۡتَعِینُ\\n', 'English': 'Thee alone do we worship; and unto Thee alone do we turn for aid.'}, {'Arabic': 'ٱهۡدِنَا ٱلصِّرَ\\u200aٰ\\u2060طَ ٱلۡمُسۡتَقِیمَ\\n', 'English': 'Guide us the straight way.'}, {'Arabic': 'صِرَ\\u200aٰ\\u2060طَ ٱلَّذِینَ أَنۡعَمۡتَ عَلَیۡهِمۡ غَیۡرِ ٱلۡمَغۡضُوبِ عَلَیۡهِمۡ وَلَا ٱلضَّاۤلِّینَ\\n', 'English': 'The way of those upon whom Thou hast bestowed Thy blessings, not of those who have been condemned [by Thee], nor of those who go astray!'}]\n"
     ]
    }
   ],
   "source": [
    "df1 = getSurah(1)\n",
    "print(df1)\n",
    "df2 = surahToDB(df1)\n",
    "create_text_image(df2, \"Arabic\", \"English\", image_path='output_image.png')"
   ]
  },
  {
   "cell_type": "code",
   "execution_count": 21,
   "metadata": {},
   "outputs": [
    {
     "data": {
      "text/plain": [
       "[{'Arabic': 'ﻢﯿﺣﺮﻟﭐ ﻦـﻤﺣﺮﻟﭐ ﻪﻠﻟﭐ ﻢﺴﺑ\\n',\n",
       "  'English': 'In the name of God, The Most Gracious, The Dispenser of Grace:'},\n",
       " {'Arabic': 'ﻦﯿﻤﻠـﻌﻟﭐ ﺏﺭ ﻪﻠﻟ ﺪﻤﺤﻟﭐ\\n',\n",
       "  'English': 'All praise is due to God alone, the Sustainer of all the worlds,'},\n",
       " {'Arabic': 'ﻢﯿﺣﺮﻟﭐ ﻦـﻤﺣﺮﻟﭐ\\n',\n",
       "  'English': 'The Most Gracious, the Dispenser of Grace,'},\n",
       " {'Arabic': 'ﻦﯾﺪﻟﭐ ﻡﻮﯾ ﻚﻠـﻣ\\n', 'English': 'Lord of the Day of Judgment!'},\n",
       " {'Arabic': 'ﻦﯿﻌﺘﺴﻧ ﻙﺎﯾﺇﻭ ﺪﺒﻌﻧ ﻙﺎﯾﺇ\\n',\n",
       "  'English': 'Thee alone do we worship; and unto Thee alone do we turn for aid.'},\n",
       " {'Arabic': 'ﻢﯿﻘﺘﺴﻤﻟﭐ ﻁ\\u200aﺮﺼﻟﭐ ﺎﻧﺪﻫﭐ\\n',\n",
       "  'English': 'Guide us the straight way.'},\n",
       " {'Arabic': 'ﻦﯿﻟﺎﻀﻟﭐ ﻻﻭ ﻢﻬﯿﻠﻋ ﺏﻮﻀﻐﻤﻟﭐ ﺮﯿﻏ ﻢﻬﯿﻠﻋ ﺖﻤﻌﻧﺃ ﻦﯾﺬﻟﭐ ﻁ\\u200aﺮﺻ\\n',\n",
       "  'English': 'The way of those upon whom Thou hast bestowed Thy blessings, not of those who have been condemned [by Thee], nor of those who go astray!'}]"
      ]
     },
     "execution_count": 21,
     "metadata": {},
     "output_type": "execute_result"
    }
   ],
   "source": [
    "getSurah(1)"
   ]
  }
 ],
 "metadata": {
  "kernelspec": {
   "display_name": ".venv",
   "language": "python",
   "name": "python3"
  },
  "language_info": {
   "codemirror_mode": {
    "name": "ipython",
    "version": 3
   },
   "file_extension": ".py",
   "mimetype": "text/x-python",
   "name": "python",
   "nbconvert_exporter": "python",
   "pygments_lexer": "ipython3",
   "version": "3.12.6"
  }
 },
 "nbformat": 4,
 "nbformat_minor": 2
}
