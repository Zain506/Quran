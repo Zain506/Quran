{
 "cells": [
  {
   "cell_type": "markdown",
   "metadata": {},
   "source": [
    "# Quran: Load Quran text (Arabic and English) into a file via public APIs"
   ]
  },
  {
   "cell_type": "code",
   "execution_count": 1,
   "metadata": {},
   "outputs": [],
   "source": [
    "import requests\n",
    "import pandas as pd\n",
    "\n",
    "def getSurah(x: int) -> dict:\n",
    "    \"\"\"Get Surah Arabic and English as dictionary\"\"\"\n",
    "    if x < 1 or x > 114:\n",
    "        return {\n",
    "            \"status\": 400\n",
    "        }\n",
    "    df = []\n",
    "    url = f\"http://api.alquran.cloud/v1/surah/{x}/quran-uthmani\"\n",
    "    response = requests.get(url)\n",
    "    translation = requests.get(f\"http://api.alquran.cloud/v1/surah/{x}/en.asad\")\n",
    "    response.raise_for_status()\n",
    "    translation.raise_for_status()\n",
    "    ordered = response.json()\n",
    "    trans = translation.json()\n",
    "    data = ordered[\"data\"][\"ayahs\"]\n",
    "    tran = trans[\"data\"][\"ayahs\"]\n",
    "    if len(data) != len(tran):\n",
    "        print(\"Error!\")\n",
    "    else:\n",
    "        n = len(data)\n",
    "        for i in range(n):\n",
    "            df.append({\n",
    "                \"Arabic\": data[i][\"text\"],\n",
    "                \"English\": tran[i][\"text\"]\n",
    "            })\n",
    "    return df\n",
    "\n",
    "def surahToDB(df: dict) -> pd.DataFrame:\n",
    "    \"\"\"Inputs getSurah(x) and outputs database\"\"\"\n",
    "    db = pd.DataFrame(df)\n",
    "    return db\n",
    "\n",
    "def saveSurah(x: int):\n",
    "    \"\"\"Save Surah to local file as dataframe\"\"\"\n",
    "    df = getSurah(x)\n",
    "    pass"
   ]
  },
  {
   "cell_type": "markdown",
   "metadata": {},
   "source": [
    "# To Anki (genanki)"
   ]
  },
  {
   "cell_type": "code",
   "execution_count": 2,
   "metadata": {},
   "outputs": [],
   "source": [
    "import requests\n",
    "\n",
    "# Define the AnkiConnect API endpoint\n",
    "ANKI_CONNECT_URL = \"http://127.0.0.1:8765\"\n",
    "\n",
    "def add_flashcard(front, back, deck_name = \"a\"):\n",
    "    \"\"\"Adds a flashcard to Anki using AnkiConnect\"\"\"\n",
    "    payload = {\n",
    "        \"action\": \"addNote\",\n",
    "        \"version\": 6,\n",
    "        \"params\": {\n",
    "            \"note\": {\n",
    "                \"deckName\": deck_name,\n",
    "                \"modelName\": \"Basic\",\n",
    "                \"fields\": {\n",
    "                    \"Front\": front,\n",
    "                    \"Back\": back\n",
    "                },\n",
    "                \"tags\": [\"python_generated\"],\n",
    "                \"options\": {\n",
    "                    \"allowDuplicate\": False\n",
    "                }\n",
    "            }\n",
    "        }\n",
    "    }\n",
    "\n",
    "    # Send the request to AnkiConnect\n",
    "    response = requests.post(ANKI_CONNECT_URL, json=payload)\n",
    "    result = response.json()\n",
    "\n",
    "    if result.get(\"error\"):\n",
    "        print(f\"Error: {result['error']}\")\n",
    "    else:\n",
    "        print(f\"Flashcard added to {deck_name} (Note ID: {result['result']})\")\n"
   ]
  },
  {
   "cell_type": "markdown",
   "metadata": {},
   "source": [
    "---"
   ]
  },
  {
   "cell_type": "markdown",
   "metadata": {},
   "source": [
    "# Run"
   ]
  },
  {
   "cell_type": "code",
   "execution_count": 6,
   "metadata": {},
   "outputs": [],
   "source": [
    "def toAnki(mini: int, maxi: int, deck = \"a\"):\n",
    "    for i in range(mini, maxi): # Includes both mini and maxi params\n",
    "        print(\"Fetching Chapter \", i)\n",
    "        surah = getSurah(i)\n",
    "        n = len(surah)\n",
    "        for j in range(0, n, 5):\n",
    "            tmp_str = \"\"\n",
    "            lim = min(j+5, len(surah))\n",
    "            for verse in surah[j:lim]:\n",
    "                tmp_str += verse[\"Arabic\"]\n",
    "                tmp_str += \"<br>\"\n",
    "                tmp_str += verse[\"English\"]\n",
    "                tmp_str += \"<br><br>\"\n",
    "            add_flashcard(\n",
    "                front = f\"{i}:{j+1}-{lim}\",\n",
    "                back = tmp_str,\n",
    "                deck_name = deck\n",
    "            )"
   ]
  },
  {
   "cell_type": "code",
   "execution_count": 10,
   "metadata": {},
   "outputs": [
    {
     "name": "stdout",
     "output_type": "stream",
     "text": [
      "Fetching Chapter  100\n",
      "Flashcard added to Quran (Note ID: 1743017825849)\n",
      "Flashcard added to Quran (Note ID: 1743017825880)\n",
      "Flashcard added to Quran (Note ID: 1743017825915)\n",
      "Fetching Chapter  101\n",
      "Flashcard added to Quran (Note ID: 1743017826082)\n",
      "Flashcard added to Quran (Note ID: 1743017826113)\n",
      "Flashcard added to Quran (Note ID: 1743017826151)\n",
      "Fetching Chapter  102\n",
      "Flashcard added to Quran (Note ID: 1743017826362)\n",
      "Flashcard added to Quran (Note ID: 1743017826397)\n",
      "Fetching Chapter  103\n",
      "Flashcard added to Quran (Note ID: 1743017826633)\n",
      "Fetching Chapter  104\n",
      "Flashcard added to Quran (Note ID: 1743017826810)\n",
      "Flashcard added to Quran (Note ID: 1743017826842)\n",
      "Fetching Chapter  105\n",
      "Flashcard added to Quran (Note ID: 1743017827058)\n",
      "Fetching Chapter  106\n",
      "Flashcard added to Quran (Note ID: 1743017827227)\n",
      "Fetching Chapter  107\n",
      "Flashcard added to Quran (Note ID: 1743017827395)\n",
      "Flashcard added to Quran (Note ID: 1743017827432)\n",
      "Fetching Chapter  108\n",
      "Flashcard added to Quran (Note ID: 1743017827595)\n",
      "Fetching Chapter  109\n",
      "Flashcard added to Quran (Note ID: 1743017827760)\n",
      "Flashcard added to Quran (Note ID: 1743017827793)\n",
      "Fetching Chapter  110\n",
      "Flashcard added to Quran (Note ID: 1743017827994)\n",
      "Fetching Chapter  111\n",
      "Flashcard added to Quran (Note ID: 1743017828162)\n",
      "Fetching Chapter  112\n",
      "Flashcard added to Quran (Note ID: 1743017828373)\n",
      "Fetching Chapter  113\n",
      "Flashcard added to Quran (Note ID: 1743017828557)\n",
      "Fetching Chapter  114\n",
      "Flashcard added to Quran (Note ID: 1743017828726)\n",
      "Flashcard added to Quran (Note ID: 1743017828760)\n"
     ]
    }
   ],
   "source": [
    "toAnki(100, 115, deck = \"Quran\")"
   ]
  },
  {
   "cell_type": "markdown",
   "metadata": {},
   "source": [
    "# Query OpenAI with Arabic text - generate tabular meanings and open chat"
   ]
  },
  {
   "cell_type": "code",
   "execution_count": null,
   "metadata": {},
   "outputs": [],
   "source": [
    "from Surah import Surah\n",
    "Surah().getSurah()"
   ]
  },
  {
   "cell_type": "code",
   "execution_count": 1,
   "metadata": {},
   "outputs": [],
   "source": [
    "class OpenAI:\n",
    "    \"\"\"\n",
    "    Query Arabic verse\n",
    "    Ask for root and all conjugations of root word\n",
    "    \"\"\"\n",
    "    def __init__(self):\n",
    "        pass"
   ]
  }
 ],
 "metadata": {
  "kernelspec": {
   "display_name": ".venv",
   "language": "python",
   "name": "python3"
  },
  "language_info": {
   "codemirror_mode": {
    "name": "ipython",
    "version": 3
   },
   "file_extension": ".py",
   "mimetype": "text/x-python",
   "name": "python",
   "nbconvert_exporter": "python",
   "pygments_lexer": "ipython3",
   "version": "3.12.6"
  }
 },
 "nbformat": 4,
 "nbformat_minor": 2
}
