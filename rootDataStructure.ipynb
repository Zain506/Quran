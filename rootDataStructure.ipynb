{
 "cells": [
  {
   "cell_type": "markdown",
   "id": "81d5e716",
   "metadata": {},
   "source": [
    "# Root Data Structure\n",
    "\n",
    "Create a Data Structure to store Arabic roots and related vocab"
   ]
  },
  {
   "cell_type": "markdown",
   "id": "1dfe7c37",
   "metadata": {},
   "source": [
    "## How the app will work\n",
    "\n",
    "- Request all unique words with corresponding roots from 1 specific ayah\n",
    "- GPT replies with all words, plus corresponding roots\n",
    "- Vocab bank (pickle file or json) stores Root objects, each containing Words\n",
    "- Streamlit shows live vocab bank"
   ]
  },
  {
   "cell_type": "code",
   "execution_count": 16,
   "id": "3ddab714",
   "metadata": {},
   "outputs": [],
   "source": [
    "# Create sample roots, words to add to sample vocab bank.\n",
    "# Then display live in Vocabulary Bank\n",
    "# Then connect GPT with it to add to it (including prompt engineering)\n",
    "from root import Root, Word\n",
    "import pickle\n",
    "\n",
    "klm = Root(\"كلم\", \"Speaking, Talking or words - communication through language\")\n",
    "ktb = Root(\"كتب\", \"Associated with writing and generally refers to the act of writing, recording, or anything related to written documents.\")\n",
    "klm.add(Word(\"كَلِمَة\", \"Word\", \"كلم\", {(19, 7), (2,3)}))\n",
    "ktb.add(Word(\"كِتَابٌ\", \"Book\", \"كتب\", {(2,2), (3,7), (3,4), (4,3), (7,1)}))\n",
    "klm.add(Word(\"يَتَكَلَّمُ\", \"To speak (eg Arabic)\", \"كلم\", {(4,3)}))\n",
    "with open(\"vocab.pkl\", \"wb\") as f:\n",
    "    objects = [klm, ktb]\n",
    "    pickle.dump(objects, f)"
   ]
  },
  {
   "cell_type": "code",
   "execution_count": 8,
   "id": "38a566a2",
   "metadata": {},
   "outputs": [
    {
     "name": "stdout",
     "output_type": "stream",
     "text": [
      "Associated with writing and generally refers to the act of writing, recording, or anything related to written documents.\n"
     ]
    }
   ],
   "source": [
    "with open(\"vocab.pkl\", \"rb\") as f:\n",
    "    data = pickle.load(f)\n",
    "print(data[1].description)"
   ]
  }
 ],
 "metadata": {
  "kernelspec": {
   "display_name": ".venv",
   "language": "python",
   "name": "python3"
  },
  "language_info": {
   "codemirror_mode": {
    "name": "ipython",
    "version": 3
   },
   "file_extension": ".py",
   "mimetype": "text/x-python",
   "name": "python",
   "nbconvert_exporter": "python",
   "pygments_lexer": "ipython3",
   "version": "3.12.6"
  }
 },
 "nbformat": 4,
 "nbformat_minor": 5
}
