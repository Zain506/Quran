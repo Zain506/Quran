{
 "cells": [
  {
   "cell_type": "markdown",
   "id": "81d5e716",
   "metadata": {},
   "source": [
    "# Root Data Structure\n",
    "\n",
    "Create a Data Structure to store Arabic roots and related vocab"
   ]
  },
  {
   "cell_type": "code",
   "execution_count": 1,
   "id": "85582c4c",
   "metadata": {},
   "outputs": [
    {
     "name": "stdout",
     "output_type": "stream",
     "text": [
      "Hello\n"
     ]
    }
   ],
   "source": [
    "print(\"Hello\")"
   ]
  }
 ],
 "metadata": {
  "kernelspec": {
   "display_name": ".venv",
   "language": "python",
   "name": "python3"
  },
  "language_info": {
   "codemirror_mode": {
    "name": "ipython",
    "version": 3
   },
   "file_extension": ".py",
   "mimetype": "text/x-python",
   "name": "python",
   "nbconvert_exporter": "python",
   "pygments_lexer": "ipython3",
   "version": "3.12.6"
  }
 },
 "nbformat": 4,
 "nbformat_minor": 5
}
