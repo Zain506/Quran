{
 "cells": [
  {
   "cell_type": "markdown",
   "id": "81d5e716",
   "metadata": {},
   "source": [
    "# Root Data Structure\n",
    "\n",
    "Create a Data Structure to store Arabic roots and related vocab"
   ]
  },
  {
   "cell_type": "markdown",
   "id": "1dfe7c37",
   "metadata": {},
   "source": [
    "## How the app will work\n",
    "\n",
    "- Request info for 1 specific ayah\n",
    "- GPT replies with all words, plus corresponding roots and other derivations\n",
    "- Vocab bank stores Root objects, each containing Words"
   ]
  }
 ],
 "metadata": {
  "kernelspec": {
   "display_name": ".venv",
   "language": "python",
   "name": "python3"
  },
  "language_info": {
   "codemirror_mode": {
    "name": "ipython",
    "version": 3
   },
   "file_extension": ".py",
   "mimetype": "text/x-python",
   "name": "python",
   "nbconvert_exporter": "python",
   "pygments_lexer": "ipython3",
   "version": "3.12.6"
  }
 },
 "nbformat": 4,
 "nbformat_minor": 5
}
