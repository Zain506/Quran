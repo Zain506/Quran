{
 "cells": [
  {
   "cell_type": "markdown",
   "metadata": {},
   "source": [
    "# Archived Pillow Method"
   ]
  },
  {
   "cell_type": "code",
   "execution_count": 1,
   "metadata": {},
   "outputs": [],
   "source": [
    "from PIL import Image, ImageDraw, ImageFont\n",
    "import textwrap\n",
    "import arabic_reshaper\n",
    "from bidi.algorithm import get_display\n",
    "\n",
    "def create_text_image(df, arabic_column, english_column, image_path='output_image.png'):\n",
    "    # Load a font\n",
    "    try:\n",
    "        font = ImageFont.truetype(\"arial.ttf\", 20)\n",
    "    except IOError:\n",
    "        font = ImageFont.load_default()\n",
    "\n",
    "    # Define text wrapping parameters\n",
    "    wrapper = textwrap.TextWrapper(width=35, expand_tabs=False, replace_whitespace=False)\n",
    "\n",
    "    # Calculate total height required for all text\n",
    "    total_height = 0\n",
    "    for index, row in df.iterrows():\n",
    "        arabic_lines = wrapper.wrap(text=row[arabic_column])\n",
    "        english_lines = wrapper.wrap(text=row[english_column])\n",
    "        total_height += (len(arabic_lines) + len(english_lines)) * 25 + 10  # Line height + spacing\n",
    "\n",
    "    # Set image dimensions\n",
    "    img_width = 800\n",
    "    img_height = total_height + 50  # Additional padding\n",
    "    img = Image.new('RGB', (img_width, img_height), color='white')\n",
    "    draw = ImageDraw.Draw(img)\n",
    "\n",
    "    # Starting position for text\n",
    "    y_position = 10\n",
    "\n",
    "    for index, row in df.iterrows():\n",
    "        # Wrap Arabic and English texts\n",
    "        arabic_lines = wrapper.wrap(text=row[arabic_column])\n",
    "        english_lines = wrapper.wrap(text=row[english_column])\n",
    "\n",
    "        # Reshape and reorder Arabic text\n",
    "        reshaped_arabic = arabic_reshaper.reshape(row[arabic_column])\n",
    "        bidi_arabic = get_display(reshaped_arabic)\n",
    "\n",
    "        # Now wrap the processed Arabic text instead of the original\n",
    "        arabic_lines = wrapper.wrap(text=bidi_arabic)\n",
    "        english_lines = wrapper.wrap(text=row[english_column])\n",
    "        \n",
    "        # Draw Arabic text\n",
    "        for line in arabic_lines:\n",
    "            draw.text((10, y_position), line, font=font, fill='black')\n",
    "            y_position += 25\n",
    "\n",
    "        # Draw English text\n",
    "        for line in english_lines:\n",
    "            draw.text((img_width // 2, y_position), line, font=font, fill='black')\n",
    "            y_position += 25\n",
    "\n",
    "        # Add spacing between rows\n",
    "        y_position += 10\n",
    "\n",
    "    # Save the image\n",
    "    img.save(image_path)\n",
    "    img.show()"
   ]
  }
 ],
 "metadata": {
  "kernelspec": {
   "display_name": ".venv",
   "language": "python",
   "name": "python3"
  },
  "language_info": {
   "codemirror_mode": {
    "name": "ipython",
    "version": 3
   },
   "file_extension": ".py",
   "mimetype": "text/x-python",
   "name": "python",
   "nbconvert_exporter": "python",
   "pygments_lexer": "ipython3",
   "version": "3.12.6"
  }
 },
 "nbformat": 4,
 "nbformat_minor": 2
}
