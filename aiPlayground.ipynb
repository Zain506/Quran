{
 "cells": [
  {
   "cell_type": "markdown",
   "id": "c6dbf55b",
   "metadata": {},
   "source": [
    "# AI Playground\n",
    "\n",
    "Interacting with LLM, Langchain etc to build app"
   ]
  },
  {
   "cell_type": "code",
   "execution_count": 1,
   "id": "2fe07004",
   "metadata": {},
   "outputs": [],
   "source": [
    "class GPTWrapper:\n",
    "    \"\"\"Wrap around GPT and send queries as required\"\"\"\n",
    "    def __init__(self, api: str):\n",
    "        pass"
   ]
  }
 ],
 "metadata": {
  "kernelspec": {
   "display_name": ".venv",
   "language": "python",
   "name": "python3"
  },
  "language_info": {
   "codemirror_mode": {
    "name": "ipython",
    "version": 3
   },
   "file_extension": ".py",
   "mimetype": "text/x-python",
   "name": "python",
   "nbconvert_exporter": "python",
   "pygments_lexer": "ipython3",
   "version": "3.12.6"
  }
 },
 "nbformat": 4,
 "nbformat_minor": 5
}
