{
 "cells": [
  {
   "cell_type": "markdown",
   "id": "c6dbf55b",
   "metadata": {},
   "source": [
    "# AI Playground\n",
    "\n",
    "Interacting with LLM, Langchain etc to build app"
   ]
  },
  {
   "cell_type": "code",
   "execution_count": null,
   "id": "2fe07004",
   "metadata": {},
   "outputs": [
    {
     "name": "stdout",
     "output_type": "stream",
     "text": [
      "setup='Why did Elon Musk bring a monkey to SpaceX?' punchline=\"Because he wanted to launch a new line of 'ape'-rospace technology!\"\n"
     ]
    }
   ],
   "source": [
    "import os\n",
    "from pydantic import BaseModel, Field\n",
    "from langchain_openai import ChatOpenAI\n",
    "from langchain.prompts import PromptTemplate\n",
    "apiKey = os.environ.get(\"OPENAI\")\n",
    "\n",
    "class Output(BaseModel):\n",
    "    \"\"\"Required output with description of what response should look like\"\"\"\n",
    "    setup: str = Field(description = \"The setup of the joke\")\n",
    "    punchline: str = Field(description=\"The punchline of the joke\")\n",
    "\n",
    "llm = ChatOpenAI(model = \"gpt-4o-mini-2024-07-18\", temperature = 0, openai_api_key=apiKey)\n",
    "structured_llm = llm.with_structured_output(Output)\n",
    "prompt_template = \"Tell me a joke about {topic1} and {topic2}\"\n",
    "prompt = PromptTemplate(input_variables = [\"topic1\", \"topic2\"], template = prompt_template)\n",
    "formatted_prompt = prompt.format(topic1 = \"Elon Musk\", topic2 = \"Monkeys\")\n",
    "result = structured_llm.invoke(input = formatted_prompt)\n",
    "print(result)"
   ]
  },
  {
   "cell_type": "code",
   "execution_count": null,
   "id": "d8a3774f",
   "metadata": {},
   "outputs": [],
   "source": []
  }
 ],
 "metadata": {
  "kernelspec": {
   "display_name": ".venv",
   "language": "python",
   "name": "python3"
  },
  "language_info": {
   "codemirror_mode": {
    "name": "ipython",
    "version": 3
   },
   "file_extension": ".py",
   "mimetype": "text/x-python",
   "name": "python",
   "nbconvert_exporter": "python",
   "pygments_lexer": "ipython3",
   "version": "3.12.6"
  }
 },
 "nbformat": 4,
 "nbformat_minor": 5
}
